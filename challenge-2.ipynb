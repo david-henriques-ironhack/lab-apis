{
 "cells": [
  {
   "cell_type": "markdown",
   "id": "0809e785",
   "metadata": {},
   "source": [
    "# 1. Import the necessary libraries for you to be able to query 4square API"
   ]
  },
  {
   "cell_type": "code",
   "execution_count": 4,
   "id": "9b373771",
   "metadata": {},
   "outputs": [],
   "source": [
    "import requests\n",
    "import json\n",
    "import pandas as pd\n",
    "from getpass import getpass\n",
    "\n",
    "api_key = getpass(\"Enter your Foursquare API Key: \")"
   ]
  },
  {
   "cell_type": "markdown",
   "id": "e94dce92",
   "metadata": {},
   "source": [
    "# 2. Get names and location of the 10 coffee places by passing Ironhack as your location"
   ]
  },
  {
   "cell_type": "code",
   "execution_count": 9,
   "id": "1d72f571",
   "metadata": {},
   "outputs": [
    {
     "data": {
      "text/html": [
       "<div>\n",
       "<style scoped>\n",
       "    .dataframe tbody tr th:only-of-type {\n",
       "        vertical-align: middle;\n",
       "    }\n",
       "\n",
       "    .dataframe tbody tr th {\n",
       "        vertical-align: top;\n",
       "    }\n",
       "\n",
       "    .dataframe thead th {\n",
       "        text-align: right;\n",
       "    }\n",
       "</style>\n",
       "<table border=\"1\" class=\"dataframe\">\n",
       "  <thead>\n",
       "    <tr style=\"text-align: right;\">\n",
       "      <th></th>\n",
       "      <th>name</th>\n",
       "      <th>location</th>\n",
       "    </tr>\n",
       "  </thead>\n",
       "  <tbody>\n",
       "    <tr>\n",
       "      <th>0</th>\n",
       "      <td>Bucólico Café</td>\n",
       "      <td>Calle Barbieri, 4</td>\n",
       "    </tr>\n",
       "    <tr>\n",
       "      <th>1</th>\n",
       "      <td>Pum Pum Bakery</td>\n",
       "      <td>Calle de la Esgrima, 1</td>\n",
       "    </tr>\n",
       "    <tr>\n",
       "      <th>2</th>\n",
       "      <td>Chocolatería San Ginés</td>\n",
       "      <td>Pasadizo de San Ginés, 5</td>\n",
       "    </tr>\n",
       "    <tr>\n",
       "      <th>3</th>\n",
       "      <td>Café de la Luz</td>\n",
       "      <td>Calle Puebla, 8</td>\n",
       "    </tr>\n",
       "    <tr>\n",
       "      <th>4</th>\n",
       "      <td>La Rollerie</td>\n",
       "      <td>Calle Mayor, 24</td>\n",
       "    </tr>\n",
       "    <tr>\n",
       "      <th>5</th>\n",
       "      <td>Ruda Café</td>\n",
       "      <td>Calle Ruda, 11</td>\n",
       "    </tr>\n",
       "    <tr>\n",
       "      <th>6</th>\n",
       "      <td>La Rollerie</td>\n",
       "      <td>Carrera San Jerónimo, 26</td>\n",
       "    </tr>\n",
       "    <tr>\n",
       "      <th>7</th>\n",
       "      <td>HanSo Café</td>\n",
       "      <td>Calle del Pez, 20</td>\n",
       "    </tr>\n",
       "    <tr>\n",
       "      <th>8</th>\n",
       "      <td>Four</td>\n",
       "      <td>Calle de Calderón de la Barca, 8</td>\n",
       "    </tr>\n",
       "    <tr>\n",
       "      <th>9</th>\n",
       "      <td>Ambu Coffee</td>\n",
       "      <td>Calle del Pez, 36</td>\n",
       "    </tr>\n",
       "  </tbody>\n",
       "</table>\n",
       "</div>"
      ],
      "text/plain": [
       "                     name                          location\n",
       "0           Bucólico Café                 Calle Barbieri, 4\n",
       "1          Pum Pum Bakery            Calle de la Esgrima, 1\n",
       "2  Chocolatería San Ginés          Pasadizo de San Ginés, 5\n",
       "3          Café de la Luz                   Calle Puebla, 8\n",
       "4             La Rollerie                   Calle Mayor, 24\n",
       "5               Ruda Café                    Calle Ruda, 11\n",
       "6             La Rollerie          Carrera San Jerónimo, 26\n",
       "7              HanSo Café                 Calle del Pez, 20\n",
       "8                    Four  Calle de Calderón de la Barca, 8\n",
       "9             Ambu Coffee                 Calle del Pez, 36"
      ]
     },
     "metadata": {},
     "output_type": "display_data"
    }
   ],
   "source": [
    "# your code here\n",
    "\n",
    "ironhack_lat = 40.416775\n",
    "ironhack_lon = -3.703790  \n",
    "\n",
    "url = \"https://api.foursquare.com/v3/places/search\"\n",
    "\n",
    "headers = {\n",
    "    \"Accept\": \"application/json\",\n",
    "    \"Authorization\": api_key,\n",
    "}\n",
    "\n",
    "params = {\n",
    "    \"ll\": f\"{ironhack_lat},{ironhack_lon}\",\n",
    "    \"query\": \"coffee\",\n",
    "    \"limit\": 10\n",
    "}\n",
    "\n",
    "response = requests.get(url, headers=headers, params=params)\n",
    "\n",
    "if response.status_code == 200:\n",
    "    data = response.json()\n",
    "    coffee_places = [\n",
    "        {\"name\": place[\"name\"], \"location\": place[\"location\"][\"address\"]}\n",
    "        for place in data[\"results\"]\n",
    "    ]\n",
    "    \n",
    "    df = pd.DataFrame(coffee_places)\n",
    "    display(df)\n",
    "else:\n",
    "    print(\"Failed to retrieve data:\", response.status_code)\n"
   ]
  },
  {
   "cell_type": "markdown",
   "id": "941b5dbf",
   "metadata": {},
   "source": [
    "# 3. Now get the 5 CLOSEST coffe places. Make use of params: limit, near?"
   ]
  },
  {
   "cell_type": "code",
   "execution_count": 10,
   "id": "fda8ddff",
   "metadata": {},
   "outputs": [
    {
     "data": {
      "text/html": [
       "<div>\n",
       "<style scoped>\n",
       "    .dataframe tbody tr th:only-of-type {\n",
       "        vertical-align: middle;\n",
       "    }\n",
       "\n",
       "    .dataframe tbody tr th {\n",
       "        vertical-align: top;\n",
       "    }\n",
       "\n",
       "    .dataframe thead th {\n",
       "        text-align: right;\n",
       "    }\n",
       "</style>\n",
       "<table border=\"1\" class=\"dataframe\">\n",
       "  <thead>\n",
       "    <tr style=\"text-align: right;\">\n",
       "      <th></th>\n",
       "      <th>name</th>\n",
       "      <th>location</th>\n",
       "    </tr>\n",
       "  </thead>\n",
       "  <tbody>\n",
       "    <tr>\n",
       "      <th>0</th>\n",
       "      <td>La Rollerie</td>\n",
       "      <td>Carrera San Jerónimo, 26</td>\n",
       "    </tr>\n",
       "    <tr>\n",
       "      <th>1</th>\n",
       "      <td>El Jardín de Salvador Bachiller</td>\n",
       "      <td>Calle Montera, 37</td>\n",
       "    </tr>\n",
       "    <tr>\n",
       "      <th>2</th>\n",
       "      <td>Chocolatería San Ginés</td>\n",
       "      <td>Pasadizo de San Ginés, 5</td>\n",
       "    </tr>\n",
       "    <tr>\n",
       "      <th>3</th>\n",
       "      <td>La Rollerie</td>\n",
       "      <td>Calle Mayor, 24</td>\n",
       "    </tr>\n",
       "    <tr>\n",
       "      <th>4</th>\n",
       "      <td>Pum Pum Bakery</td>\n",
       "      <td>Calle de la Esgrima, 1</td>\n",
       "    </tr>\n",
       "  </tbody>\n",
       "</table>\n",
       "</div>"
      ],
      "text/plain": [
       "                              name                  location\n",
       "0                      La Rollerie  Carrera San Jerónimo, 26\n",
       "1  El Jardín de Salvador Bachiller         Calle Montera, 37\n",
       "2           Chocolatería San Ginés  Pasadizo de San Ginés, 5\n",
       "3                      La Rollerie           Calle Mayor, 24\n",
       "4                   Pum Pum Bakery    Calle de la Esgrima, 1"
      ]
     },
     "metadata": {},
     "output_type": "display_data"
    }
   ],
   "source": [
    "# your code here\n",
    "\n",
    "location = \"Ironhack, Madrid\"\n",
    "\n",
    "url = \"https://api.foursquare.com/v3/places/search\"\n",
    "\n",
    "headers = {\n",
    "    \"Accept\": \"application/json\",\n",
    "    \"Authorization\": api_key,\n",
    "}\n",
    "\n",
    "params = {\n",
    "    \"near\": location,  # Using the 'near' parameter to find places near a location\n",
    "    \"query\": \"coffee\",\n",
    "    \"limit\": 5,  # Limiting the results to the 5 closest places\n",
    "    \"sort\": \"distance\"  # Sorting by distance to get the closest ones\n",
    "}\n",
    "\n",
    "response = requests.get(url, headers=headers, params=params)\n",
    "\n",
    "if response.status_code == 200:\n",
    "    data = response.json()\n",
    "    closest_coffee_places = [\n",
    "        {\"name\": place[\"name\"], \"location\": place[\"location\"][\"address\"]}\n",
    "        for place in data[\"results\"]\n",
    "    ]\n",
    "    \n",
    "    df = pd.DataFrame(closest_coffee_places)\n",
    "    display(df)\n",
    "else:\n",
    "    print(\"Failed to retrieve data:\", response.status_code)\n"
   ]
  },
  {
   "cell_type": "markdown",
   "id": "d19904e8",
   "metadata": {},
   "source": [
    "# 4. Define a function that returns name, lat, long for starbucks OR restaurants AND for any given location"
   ]
  },
  {
   "cell_type": "code",
   "execution_count": 11,
   "id": "1fad5153",
   "metadata": {},
   "outputs": [],
   "source": [
    "def foursquare_places (venue, coordinates):\n",
    "    \n",
    "    url = \"https://api.foursquare.com/v3/places/search\"\n",
    "    \n",
    "    headers = {\n",
    "        \"Accept\": \"application/json\",\n",
    "        \"Authorization\": api_key,\n",
    "    }\n",
    "    \n",
    "    params = {\n",
    "        \"ll\": coordinates,  # Latitude and longitude of the location\n",
    "        \"query\": venue,  # Searching for the provided venue type (e.g., Starbucks, restaurant)\n",
    "        \"limit\": 10  # You can adjust the limit as needed\n",
    "    }\n",
    "    \n",
    "    # Make the request to Foursquare API\n",
    "    response = requests.get(url, headers=headers, params=params)\n",
    "    \n",
    "    if response.status_code == 200:\n",
    "        data = response.json()\n",
    "        venues = [\n",
    "            {\n",
    "                \"name\": place[\"name\"],\n",
    "                \"lat\": place[\"geocodes\"][\"main\"][\"latitude\"],\n",
    "                \"lon\": place[\"geocodes\"][\"main\"][\"longitude\"]\n",
    "            }\n",
    "            for place in data[\"results\"]\n",
    "        ]\n",
    "        return venues\n",
    "    else:\n",
    "        print(f\"Failed to retrieve data: {response.status_code}\")\n",
    "        return []\n"
   ]
  },
  {
   "cell_type": "markdown",
   "id": "1836c1a1",
   "metadata": {},
   "source": [
    "# 5. Export it into data folder as a json: `data/coffe_shops.json`"
   ]
  },
  {
   "cell_type": "code",
   "execution_count": 13,
   "id": "7ac5f2a8",
   "metadata": {},
   "outputs": [
    {
     "name": "stdout",
     "output_type": "stream",
     "text": [
      "Data successfully exported into data\\coffee_shops.json\n"
     ]
    }
   ],
   "source": [
    "import os\n",
    "import json\n",
    "\n",
    "location = \"40.416775,-3.703790\"  \n",
    "coffee_shops_data = foursquare_places(\"coffee\", location)\n",
    "\n",
    "output_dir = \"data\"\n",
    "output_file = os.path.join(output_dir, \"coffee_shops.json\")\n",
    "\n",
    "if not os.path.exists(output_dir):\n",
    "    os.makedirs(output_dir)\n",
    "\n",
    "with open(output_file, \"w\") as f:\n",
    "    json.dump(coffee_shops_data, f, indent=4)\n",
    "\n",
    "print(f\"Data successfully exported into {output_file}\")\n"
   ]
  },
  {
   "cell_type": "markdown",
   "id": "2d77e99d",
   "metadata": {},
   "source": [
    "# BONUS: load it into MongoDB in a collection named \"ironcoffee\" using pymongo"
   ]
  },
  {
   "cell_type": "code",
   "execution_count": null,
   "id": "85b94955",
   "metadata": {},
   "outputs": [],
   "source": [
    "# your code here"
   ]
  }
 ],
 "metadata": {
  "kernelspec": {
   "display_name": "base",
   "language": "python",
   "name": "python3"
  },
  "language_info": {
   "codemirror_mode": {
    "name": "ipython",
    "version": 3
   },
   "file_extension": ".py",
   "mimetype": "text/x-python",
   "name": "python",
   "nbconvert_exporter": "python",
   "pygments_lexer": "ipython3",
   "version": "3.12.4"
  },
  "toc": {
   "base_numbering": 1,
   "nav_menu": {},
   "number_sections": true,
   "sideBar": true,
   "skip_h1_title": false,
   "title_cell": "Table of Contents",
   "title_sidebar": "Contents",
   "toc_cell": false,
   "toc_position": {},
   "toc_section_display": true,
   "toc_window_display": true
  }
 },
 "nbformat": 4,
 "nbformat_minor": 5
}
