{
 "cells": [
  {
   "cell_type": "markdown",
   "id": "0809e785",
   "metadata": {},
   "source": [
    "# 1. Import the necessary libraries for you to be able to query 4square API"
   ]
  },
  {
   "cell_type": "code",
   "execution_count": 1,
   "id": "9b373771",
   "metadata": {},
   "outputs": [],
   "source": [
    "import requests\n",
    "import json\n",
    "import pandas as pd\n",
    "from getpass import getpass"
   ]
  },
  {
   "cell_type": "markdown",
   "id": "e94dce92",
   "metadata": {},
   "source": [
    "# 2. Get names and location of the 10 coffee places by passing Ironhack as your location"
   ]
  },
  {
   "cell_type": "code",
   "execution_count": null,
   "id": "cd0b5a47",
   "metadata": {},
   "outputs": [],
   "source": [
    "import requests\n",
    "import getpass\n",
    "\n",
    "api_key = getpass.getpass(\"Enter your API key: \")\n",
    "\n",
    "url = \"https://api.foursquare.com/v3/places/search\"\n",
    "headers = {\n",
    "    \"Accept\": \"application/json\",\n",
    "    \"Authorization\": api_key\n",
    "}\n",
    "\n",
    "# Make the request to the Foursquare API\n",
    "response = requests.get(url, headers=headers)\n"
   ]
  },
  {
   "cell_type": "code",
   "execution_count": 15,
   "id": "1d72f571",
   "metadata": {},
   "outputs": [
    {
     "name": "stdout",
     "output_type": "stream",
     "text": [
      "Name: Café da Garagem\n",
      "Address: Rua Costa Castelo 75, 1100-178 Lisboa\n",
      "\n",
      "Name: Damas\n",
      "Address: Rua da Voz do Operário 60, 1070-087 Lisboa\n",
      "\n",
      "Name: Copenhagen Coffee Lab\n",
      "Address: Escolas Gerais, 34, 1100-213 Lisboa\n",
      "\n",
      "Name: Pastelaria Santo António\n",
      "Address: Rua St António 88, 4800-162 Lisboa\n",
      "\n",
      "Name: Fabrica da Nata\n",
      "Address: Rua Augusta, 1100-052 Lisboa\n",
      "\n",
      "Name: Quiosque Portas do Sol\n",
      "Address: Lisboa\n",
      "\n",
      "Name: Copenhagen Coffee Lab\n",
      "Address: Rua dos Douradores, Lisbon Portugal (Rua de Santa Justa), 1100-230 Lisboa\n",
      "\n",
      "Name: Curva\n",
      "Address: Rua Damasceno Monteiro 108D, Lisboa\n",
      "\n",
      "Name: Fábrica da Nata\n",
      "Address: Praça dos Restauradores nº 62, 1250-110 Lisboa\n",
      "\n",
      "Name: Fábrica Coffee Roasters\n",
      "Address: Rua das Portas de Santo Antão 136, 1150-265 Lisboa\n",
      "\n"
     ]
    }
   ],
   "source": [
    "import requests\n",
    "\n",
    "params = {\n",
    "    \"query\": \"coffee\",  \n",
    "    \"near\": \"Lisbon\",   \n",
    "    \"limit\": 10         \n",
    "}\n",
    "\n",
    "response = requests.get(url, headers=headers, params=params)\n",
    "\n",
    "data = response.json()\n",
    "\n",
    "if \"results\" in data:\n",
    "    for place in data[\"results\"]:\n",
    "        name = place.get(\"name\", \"Name not available\")\n",
    "        location = place.get(\"location\", {})\n",
    "        address = location.get(\"formatted_address\", \"Address not available\")\n",
    "        print(f\"Name: {name}\\nAddress: {address}\\n\")\n",
    "else:\n",
    "    print(\"No results found.\")\n",
    "\n"
   ]
  },
  {
   "cell_type": "markdown",
   "id": "941b5dbf",
   "metadata": {},
   "source": [
    "# 3. Now get the 5 CLOSEST coffe places. Make use of params: limit, near?"
   ]
  },
  {
   "cell_type": "code",
   "execution_count": null,
   "id": "fda8ddff",
   "metadata": {},
   "outputs": [
    {
     "name": "stdout",
     "output_type": "stream",
     "text": [
      "5 Closest Coffee Places:\n",
      "Name: Café da Garagem, Address: Rua Costa Castelo 75, 1100-178 Lisboa\n",
      "Name: Damas, Address: Rua da Voz do Operário 60, 1070-087 Lisboa\n",
      "Name: Copenhagen Coffee Lab, Address: Escolas Gerais, 34, 1100-213 Lisboa\n",
      "Name: Pastelaria Santo António, Address: Rua St António 88, 4800-162 Lisboa\n",
      "Name: Fabrica da Nata, Address: Rua Augusta, 1100-052 Lisboa\n"
     ]
    }
   ],
   "source": [
    "\n",
    "params = {\n",
    "    \"query\": \"coffee\",  \n",
    "    \"near\": \"Lisbon\",   \n",
    "    \"limit\": 5          \n",
    "}\n",
    "\n",
    "response = requests.get(url, headers=headers, params=params)\n",
    "\n",
    "data = response.json()\n",
    "\n",
    "if \"results\" in data:\n",
    "    print(\"5 Closest Coffee Places:\")\n",
    "    for place in data[\"results\"]:\n",
    "        name = place.get(\"name\", \"Name not available\")\n",
    "        location = place.get(\"location\", {})\n",
    "        address = location.get(\"formatted_address\", \"Address not available\")\n",
    "        print(f\"Name: {name}, Address: {address}\")\n",
    "else:\n",
    "    print(\"No coffee places found.\")\n"
   ]
  },
  {
   "cell_type": "markdown",
   "id": "d19904e8",
   "metadata": {},
   "source": [
    "# 4. Define a function that returns name, lat, long for starbucks OR restaurants AND for any given location"
   ]
  },
  {
   "cell_type": "code",
   "execution_count": null,
   "id": "1fad5153",
   "metadata": {},
   "outputs": [
    {
     "name": "stdout",
     "output_type": "stream",
     "text": [
      "Name: Starbucks, Latitude: 38.71449, Longitude: -9.140825\n",
      "Name: Starbucks, Latitude: 38.710633, Longitude: -9.13938\n",
      "Name: Starbucks, Latitude: 38.712352, Longitude: -9.13872\n",
      "Name: Starbucks, Latitude: 38.770219, Longitude: -9.128875\n",
      "Name: Starbucks, Latitude: 38.728264, Longitude: -9.218769\n",
      "Name: Starbucks ECI Lisboa, Latitude: 38.733857, Longitude: -9.153991\n",
      "Name: Starbucks, Latitude: 38.771343, Longitude: -9.130866\n",
      "Name: Starbucks, Latitude: 38.768788, Longitude: -9.095998\n",
      "Name: Starbucks, Latitude: 38.714539, Longitude: -9.140885\n",
      "Name: Starbucks, Latitude: 38.71449, Longitude: -9.140825\n"
     ]
    }
   ],
   "source": [
    "\n",
    "\n",
    "def foursquare_places(venue, coordinates):\n",
    "    pass\n",
    "    \n",
    "    params = {\n",
    "        \"query\": venue,       \n",
    "        \"ll\": coordinates,    \n",
    "        \"limit\": 10           \n",
    "    }\n",
    "    \n",
    "    response = requests.get(url, headers=headers, params=params)\n",
    "    data = response.json()\n",
    "    \n",
    "    results = []\n",
    "    if \"results\" in data:\n",
    "        for place in data[\"results\"]:\n",
    "            name = place.get(\"name\", \"Name not available\")\n",
    "            geocode = place.get(\"geocodes\", {}).get(\"main\", {})\n",
    "            lat = geocode.get(\"latitude\", \"Latitude not available\")\n",
    "            lng = geocode.get(\"longitude\", \"Longitude not available\")\n",
    "            results.append({\"name\": name, \"latitude\": lat, \"longitude\": lng})\n",
    "    \n",
    "    return results\n",
    "\n",
    "venues = foursquare_places(\"Starbucks\", \"38.7169,-9.1399\")  \n",
    "for venue in venues:\n",
    "    print(f\"Name: {venue['name']}, Latitude: {venue['latitude']}, Longitude: {venue['longitude']}\")\n"
   ]
  },
  {
   "cell_type": "markdown",
   "id": "1836c1a1",
   "metadata": {},
   "source": [
    "# 5. Export it into data folder as a json: `data/coffe_shops.json`"
   ]
  },
  {
   "cell_type": "code",
   "execution_count": null,
   "id": "7ac5f2a8",
   "metadata": {},
   "outputs": [
    {
     "name": "stdout",
     "output_type": "stream",
     "text": [
      "Data successfully exported to data\\coffee_shops.json\n"
     ]
    }
   ],
   "source": [
    "import os\n",
    "import json\n",
    "\n",
    "coffee_shops = [\n",
    "    {\"name\": \"Starbucks\", \"latitude\": 38.71449, \"longitude\": -9.140825},\n",
    "    {\"name\": \"Starbucks\", \"latitude\": 38.710633, \"longitude\": -9.13938},\n",
    "    {\"name\": \"Starbucks\", \"latitude\": 38.712352, \"longitude\": -9.13872},\n",
    "    {\"name\": \"Starbucks\", \"latitude\": 38.770219, \"longitude\": -9.128875},\n",
    "    {\"name\": \"Starbucks\", \"latitude\": 38.728264, \"longitude\": -9.218769},\n",
    "    {\"name\": \"Starbucks ECI Lisboa\", \"latitude\": 38.733857, \"longitude\": -9.153991},\n",
    "    {\"name\": \"Starbucks\", \"latitude\": 38.771343, \"longitude\": -9.130866},\n",
    "    {\"name\": \"Starbucks\", \"latitude\": 38.768788, \"longitude\": -9.095998},\n",
    "    {\"name\": \"Starbucks\", \"latitude\": 38.714539, \"longitude\": -9.140885},\n",
    "    {\"name\": \"Starbucks\", \"latitude\": 38.71449, \"longitude\": -9.140825},\n",
    "    {\"name\": \"Café da Garagem\", \"address\": \"Rua Costa Castelo 75, 1100-178 Lisboa\"},\n",
    "    {\"name\": \"Damas\", \"address\": \"Rua da Voz do Operário 60, 1070-087 Lisboa\"},\n",
    "    {\"name\": \"Copenhagen Coffee Lab\", \"address\": \"Escolas Gerais, 34, 1100-213 Lisboa\"},\n",
    "    {\"name\": \"Pastelaria Santo António\", \"address\": \"Rua St António 88, 4800-162 Lisboa\"},\n",
    "    {\"name\": \"Fabrica da Nata\", \"address\": \"Rua Augusta, 1100-052 Lisboa\"},\n",
    "    {\"name\": \"Quiosque Portas do Sol\", \"address\": \"Lisboa\"},\n",
    "    {\"name\": \"Copenhagen Coffee Lab\", \"address\": \"Rua dos Douradores, Lisbon Portugal (Rua de Santa Justa), 1100-230 Lisboa\"},\n",
    "    {\"name\": \"Curva\", \"address\": \"Rua Damasceno Monteiro 108D, Lisboa\"},\n",
    "    {\"name\": \"Fábrica da Nata\", \"address\": \"Unknown Address\"},\n",
    "    {\"name\": \"Fábrica Coffee Roasters\", \"address\": \"Rua das Portas de Santo Antão 136, 1150-265 Lisboa\"}\n",
    "]\n",
    "\n",
    "output_folder = \"data\"\n",
    "output_file = os.path.join(output_folder, \"coffee_shops.json\")\n",
    "\n",
    "os.makedirs(output_folder, exist_ok=True)\n",
    "\n",
    "with open(output_file, \"w\") as f:\n",
    "    json.dump(coffee_shops, f, indent=4)\n",
    "\n",
    "print(f\"Data successfully exported to {output_file}\")\n",
    "\n"
   ]
  },
  {
   "cell_type": "markdown",
   "id": "2d77e99d",
   "metadata": {},
   "source": [
    "# BONUS: load it into MongoDB in a collection named \"ironcoffee\" using pymongo"
   ]
  },
  {
   "cell_type": "code",
   "execution_count": null,
   "id": "85b94955",
   "metadata": {},
   "outputs": [],
   "source": [
    "# your code here"
   ]
  }
 ],
 "metadata": {
  "kernelspec": {
   "display_name": "Python 3",
   "language": "python",
   "name": "python3"
  },
  "language_info": {
   "codemirror_mode": {
    "name": "ipython",
    "version": 3
   },
   "file_extension": ".py",
   "mimetype": "text/x-python",
   "name": "python",
   "nbconvert_exporter": "python",
   "pygments_lexer": "ipython3",
   "version": "3.12.7"
  },
  "toc": {
   "base_numbering": 1,
   "nav_menu": {},
   "number_sections": true,
   "sideBar": true,
   "skip_h1_title": false,
   "title_cell": "Table of Contents",
   "title_sidebar": "Contents",
   "toc_cell": false,
   "toc_position": {},
   "toc_section_display": true,
   "toc_window_display": true
  }
 },
 "nbformat": 4,
 "nbformat_minor": 5
}
