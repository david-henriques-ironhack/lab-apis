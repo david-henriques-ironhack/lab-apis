{
 "cells": [
  {
   "cell_type": "markdown",
   "id": "0809e785",
   "metadata": {},
   "source": [
    "# 1. Import the necessary libraries for you to be able to query 4square API"
   ]
  },
  {
   "cell_type": "code",
   "execution_count": 1,
   "id": "9b373771",
   "metadata": {},
   "outputs": [],
   "source": [
    "import requests\n",
    "import json\n",
    "import pandas as pd\n",
    "from getpass import getpass"
   ]
  },
  {
   "cell_type": "markdown",
   "id": "e94dce92",
   "metadata": {},
   "source": [
    "# 2. Get names and location of the 10 coffee places by passing Ironhack as your location"
   ]
  },
  {
   "cell_type": "code",
   "execution_count": 7,
   "id": "233b50cc",
   "metadata": {},
   "outputs": [
    {
     "name": "stdout",
     "output_type": "stream",
     "text": [
      "                           name   latitude  longitude\n",
      "0                  Dot Café Bar  40.396051  -3.698800\n",
      "1              BBIG Delice Café  40.396268  -3.693275\n",
      "2  Sanpas Cafetería Restaurante  40.390827  -3.689063\n",
      "3                Formula Nietos  40.404251  -3.702233\n",
      "4                   Hola Coffee  40.407002  -3.699084\n",
      "5                El Rincón Guay  40.407447  -3.704102\n",
      "6                  Pum Pum Café  40.408108  -3.701986\n",
      "7                      Cafelito  40.408404  -3.702780\n",
      "8           Nuevo Café Barbieri  40.409294  -3.701103\n",
      "9                      Scarlett  40.408871  -3.692709\n"
     ]
    }
   ],
   "source": [
    "# I could only get this by adding coordinates. \n",
    "url = \"https://api.foursquare.com/v3/places/search?ll=40.39353,-3.69871&query=coffee&categories=13032&sort=DISTANCE&radius=50000&limit=10\"\n",
    "\n",
    "with open('C:/Users/joice/OneDrive/Documentos/Ironhack/ML course/secrets/secrets.txt', 'r') as file:\n",
    "    api_key = file.read().split('fsq-token:')[1].strip()\n",
    "\n",
    "headers = {\n",
    "    \"accept\": \"application/json\",\n",
    "    \"Authorization\": f\"{api_key}\"\n",
    "}\n",
    "\n",
    "response = requests.get(url, headers=headers)\n",
    "\n",
    "data = response.json()\n",
    "\n",
    "coffee_places = []\n",
    "if 'results' in data:\n",
    "    for place in data['results']:\n",
    "        coffee_places.append({\n",
    "            'name': place['name'],\n",
    "            'latitude': place['geocodes']['main']['latitude'],\n",
    "            'longitude': place['geocodes']['main']['longitude']\n",
    "        })\n",
    "\n",
    "coffees_near = pd.DataFrame(coffee_places)\n",
    "\n",
    "print(coffees_near)\n"
   ]
  },
  {
   "cell_type": "markdown",
   "id": "941b5dbf",
   "metadata": {},
   "source": [
    "# 3. Now get the 5 CLOSEST coffe places. Make use of params: limit, near?"
   ]
  },
  {
   "cell_type": "code",
   "execution_count": 8,
   "id": "fda8ddff",
   "metadata": {},
   "outputs": [
    {
     "name": "stdout",
     "output_type": "stream",
     "text": [
      "                           name   latitude  longitude\n",
      "0                  Dot Café Bar  40.396051  -3.698800\n",
      "1              BBIG Delice Café  40.396268  -3.693275\n",
      "2  Sanpas Cafetería Restaurante  40.390827  -3.689063\n",
      "3                Formula Nietos  40.404251  -3.702233\n",
      "4                   Hola Coffee  40.407002  -3.699084\n"
     ]
    }
   ],
   "source": [
    "# I changed the limit to 5 in the url\n",
    "\n",
    "url = \"https://api.foursquare.com/v3/places/search?ll=40.39353,-3.69871&query=coffee&categories=13032&sort=DISTANCE&radius=50000&limit=5\"\n",
    "\n",
    "with open('C:/Users/joice/OneDrive/Documentos/Ironhack/ML course/secrets/secrets.txt', 'r') as file:\n",
    "    api_key = file.read().split('fsq-token:')[1].strip()\n",
    "\n",
    "headers = {\n",
    "    \"accept\": \"application/json\",\n",
    "    \"Authorization\": f\"{api_key}\"\n",
    "}\n",
    "\n",
    "response = requests.get(url, headers=headers)\n",
    "\n",
    "data = response.json()\n",
    "\n",
    "coffee_places = []\n",
    "if 'results' in data:\n",
    "    for place in data['results']:\n",
    "        coffee_places.append({\n",
    "            'name': place['name'],\n",
    "            'latitude': place['geocodes']['main']['latitude'],\n",
    "            'longitude': place['geocodes']['main']['longitude']\n",
    "        })\n",
    "\n",
    "coffees_near = pd.DataFrame(coffee_places)\n",
    "\n",
    "print(coffees_near)\n"
   ]
  },
  {
   "cell_type": "markdown",
   "id": "d19904e8",
   "metadata": {},
   "source": [
    "# 4. Define a function that returns name, lat, long for starbucks OR restaurants AND for any given location"
   ]
  },
  {
   "cell_type": "code",
   "execution_count": 9,
   "id": "1fad5153",
   "metadata": {},
   "outputs": [],
   "source": [
    "def foursquare_places (venue, coordinates):\n",
    "    url = f\"https://api.foursquare.com/v3/places/search?ll={coordinates}&query={venue}&sort=DISTANCE&limit=10\"\n",
    "\n",
    "\n",
    "    with open('C:/Users/joice/OneDrive/Documentos/Ironhack/ML course/secrets/secrets.txt', 'r') as file:\n",
    "        api_key = file.read().split('fsq-token:')[1].strip()\n",
    "\n",
    "    headers = {\n",
    "        \"accept\": \"application/json\",\n",
    "        \"Authorization\": f\"{api_key}\"\n",
    "    }\n",
    "    \n",
    "    response = requests.get(url, headers=headers)\n",
    "    search = response.json()\n",
    "    \n",
    "    places = []\n",
    "    if 'results' in search:\n",
    "        for place in search['results'][:10]: \n",
    "            places.append({\n",
    "                'name': place['name'],\n",
    "                'latitude': place['geocodes']['main']['latitude'],\n",
    "                'longitude': place['geocodes']['main']['longitude']\n",
    "            })\n",
    "\n",
    "    # Convert to DataFrame and return it\n",
    "    return pd.DataFrame(places)\n",
    "\n",
    "\n",
    "\n"
   ]
  },
  {
   "cell_type": "code",
   "execution_count": 10,
   "id": "c0cd626c",
   "metadata": {},
   "outputs": [
    {
     "data": {
      "text/html": [
       "<div>\n",
       "<style scoped>\n",
       "    .dataframe tbody tr th:only-of-type {\n",
       "        vertical-align: middle;\n",
       "    }\n",
       "\n",
       "    .dataframe tbody tr th {\n",
       "        vertical-align: top;\n",
       "    }\n",
       "\n",
       "    .dataframe thead th {\n",
       "        text-align: right;\n",
       "    }\n",
       "</style>\n",
       "<table border=\"1\" class=\"dataframe\">\n",
       "  <thead>\n",
       "    <tr style=\"text-align: right;\">\n",
       "      <th></th>\n",
       "      <th>name</th>\n",
       "      <th>latitude</th>\n",
       "      <th>longitude</th>\n",
       "    </tr>\n",
       "  </thead>\n",
       "  <tbody>\n",
       "    <tr>\n",
       "      <th>0</th>\n",
       "      <td>Starbucks</td>\n",
       "      <td>41.387848</td>\n",
       "      <td>2.169659</td>\n",
       "    </tr>\n",
       "    <tr>\n",
       "      <th>1</th>\n",
       "      <td>Starbucks</td>\n",
       "      <td>41.388096</td>\n",
       "      <td>2.168053</td>\n",
       "    </tr>\n",
       "    <tr>\n",
       "      <th>2</th>\n",
       "      <td>Starbucks</td>\n",
       "      <td>41.385827</td>\n",
       "      <td>2.167881</td>\n",
       "    </tr>\n",
       "    <tr>\n",
       "      <th>3</th>\n",
       "      <td>Starbucks</td>\n",
       "      <td>41.388798</td>\n",
       "      <td>2.172099</td>\n",
       "    </tr>\n",
       "    <tr>\n",
       "      <th>4</th>\n",
       "      <td>Starbucks</td>\n",
       "      <td>41.383598</td>\n",
       "      <td>2.171119</td>\n",
       "    </tr>\n",
       "    <tr>\n",
       "      <th>5</th>\n",
       "      <td>Starbucks</td>\n",
       "      <td>41.381925</td>\n",
       "      <td>2.172230</td>\n",
       "    </tr>\n",
       "    <tr>\n",
       "      <th>6</th>\n",
       "      <td>Starbucks</td>\n",
       "      <td>41.390753</td>\n",
       "      <td>2.165031</td>\n",
       "    </tr>\n",
       "    <tr>\n",
       "      <th>7</th>\n",
       "      <td>Starbucks</td>\n",
       "      <td>41.385252</td>\n",
       "      <td>2.163222</td>\n",
       "    </tr>\n",
       "    <tr>\n",
       "      <th>8</th>\n",
       "      <td>Starbucks</td>\n",
       "      <td>41.385000</td>\n",
       "      <td>2.177103</td>\n",
       "    </tr>\n",
       "    <tr>\n",
       "      <th>9</th>\n",
       "      <td>Starbucks</td>\n",
       "      <td>41.382413</td>\n",
       "      <td>2.176695</td>\n",
       "    </tr>\n",
       "  </tbody>\n",
       "</table>\n",
       "</div>"
      ],
      "text/plain": [
       "        name   latitude  longitude\n",
       "0  Starbucks  41.387848   2.169659\n",
       "1  Starbucks  41.388096   2.168053\n",
       "2  Starbucks  41.385827   2.167881\n",
       "3  Starbucks  41.388798   2.172099\n",
       "4  Starbucks  41.383598   2.171119\n",
       "5  Starbucks  41.381925   2.172230\n",
       "6  Starbucks  41.390753   2.165031\n",
       "7  Starbucks  41.385252   2.163222\n",
       "8  Starbucks  41.385000   2.177103\n",
       "9  Starbucks  41.382413   2.176695"
      ]
     },
     "execution_count": 10,
     "metadata": {},
     "output_type": "execute_result"
    }
   ],
   "source": [
    "foursquare_places(\"Starbucks\", \"41.387,2.1701\")"
   ]
  },
  {
   "cell_type": "code",
   "execution_count": 11,
   "id": "f49f6e48",
   "metadata": {},
   "outputs": [
    {
     "data": {
      "text/html": [
       "<div>\n",
       "<style scoped>\n",
       "    .dataframe tbody tr th:only-of-type {\n",
       "        vertical-align: middle;\n",
       "    }\n",
       "\n",
       "    .dataframe tbody tr th {\n",
       "        vertical-align: top;\n",
       "    }\n",
       "\n",
       "    .dataframe thead th {\n",
       "        text-align: right;\n",
       "    }\n",
       "</style>\n",
       "<table border=\"1\" class=\"dataframe\">\n",
       "  <thead>\n",
       "    <tr style=\"text-align: right;\">\n",
       "      <th></th>\n",
       "      <th>name</th>\n",
       "      <th>latitude</th>\n",
       "      <th>longitude</th>\n",
       "    </tr>\n",
       "  </thead>\n",
       "  <tbody>\n",
       "    <tr>\n",
       "      <th>0</th>\n",
       "      <td>Hard Rock Cafe</td>\n",
       "      <td>41.385897</td>\n",
       "      <td>2.170779</td>\n",
       "    </tr>\n",
       "    <tr>\n",
       "      <th>1</th>\n",
       "      <td>Honest Greens Plaça Catalunya</td>\n",
       "      <td>41.387526</td>\n",
       "      <td>2.167989</td>\n",
       "    </tr>\n",
       "    <tr>\n",
       "      <th>2</th>\n",
       "      <td>La Esquina</td>\n",
       "      <td>41.385888</td>\n",
       "      <td>2.167912</td>\n",
       "    </tr>\n",
       "    <tr>\n",
       "      <th>3</th>\n",
       "      <td>Teresa Carles</td>\n",
       "      <td>41.385065</td>\n",
       "      <td>2.168022</td>\n",
       "    </tr>\n",
       "    <tr>\n",
       "      <th>4</th>\n",
       "      <td>Macchina</td>\n",
       "      <td>41.386481</td>\n",
       "      <td>2.166706</td>\n",
       "    </tr>\n",
       "    <tr>\n",
       "      <th>5</th>\n",
       "      <td>El Asador de Aranda</td>\n",
       "      <td>41.389233</td>\n",
       "      <td>2.172018</td>\n",
       "    </tr>\n",
       "    <tr>\n",
       "      <th>6</th>\n",
       "      <td>Mazah</td>\n",
       "      <td>41.387752</td>\n",
       "      <td>2.166598</td>\n",
       "    </tr>\n",
       "    <tr>\n",
       "      <th>7</th>\n",
       "      <td>Ciutat Comtal</td>\n",
       "      <td>41.388858</td>\n",
       "      <td>2.166857</td>\n",
       "    </tr>\n",
       "    <tr>\n",
       "      <th>8</th>\n",
       "      <td>Choko</td>\n",
       "      <td>41.388406</td>\n",
       "      <td>2.173858</td>\n",
       "    </tr>\n",
       "    <tr>\n",
       "      <th>9</th>\n",
       "      <td>Citizen Café</td>\n",
       "      <td>41.389412</td>\n",
       "      <td>2.172787</td>\n",
       "    </tr>\n",
       "  </tbody>\n",
       "</table>\n",
       "</div>"
      ],
      "text/plain": [
       "                            name   latitude  longitude\n",
       "0                 Hard Rock Cafe  41.385897   2.170779\n",
       "1  Honest Greens Plaça Catalunya  41.387526   2.167989\n",
       "2                     La Esquina  41.385888   2.167912\n",
       "3                  Teresa Carles  41.385065   2.168022\n",
       "4                       Macchina  41.386481   2.166706\n",
       "5            El Asador de Aranda  41.389233   2.172018\n",
       "6                          Mazah  41.387752   2.166598\n",
       "7                  Ciutat Comtal  41.388858   2.166857\n",
       "8                          Choko  41.388406   2.173858\n",
       "9                   Citizen Café  41.389412   2.172787"
      ]
     },
     "execution_count": 11,
     "metadata": {},
     "output_type": "execute_result"
    }
   ],
   "source": [
    "foursquare_places(\"Restaurants\", \"41.387,2.1701\")"
   ]
  },
  {
   "cell_type": "markdown",
   "id": "1836c1a1",
   "metadata": {},
   "source": [
    "# 5. Export it into data folder as a json: `data/coffe_shops.json`"
   ]
  },
  {
   "cell_type": "code",
   "execution_count": 12,
   "id": "7ac5f2a8",
   "metadata": {},
   "outputs": [],
   "source": [
    "Bcn_starbucks = foursquare_places(\"Starbucks\", \"41.387,2.1701\")\n",
    "Bcn_starbucks.to_json(\"C:/Users/joice/OneDrive/Documentos/Ironhack/ML course/Labs w7/lab-apis/downloaded from labs/starbucks_places.json\", orient = \"records\", indent=4)"
   ]
  },
  {
   "cell_type": "markdown",
   "id": "2d77e99d",
   "metadata": {},
   "source": [
    "# BONUS: load it into MongoDB in a collection named \"ironcoffee\" using pymongo"
   ]
  },
  {
   "cell_type": "code",
   "execution_count": 13,
   "id": "85b94955",
   "metadata": {},
   "outputs": [],
   "source": [
    "# your code here"
   ]
  }
 ],
 "metadata": {
  "kernelspec": {
   "display_name": "base",
   "language": "python",
   "name": "python3"
  },
  "language_info": {
   "codemirror_mode": {
    "name": "ipython",
    "version": 3
   },
   "file_extension": ".py",
   "mimetype": "text/x-python",
   "name": "python",
   "nbconvert_exporter": "python",
   "pygments_lexer": "ipython3",
   "version": "3.12.3"
  },
  "toc": {
   "base_numbering": 1,
   "nav_menu": {},
   "number_sections": true,
   "sideBar": true,
   "skip_h1_title": false,
   "title_cell": "Table of Contents",
   "title_sidebar": "Contents",
   "toc_cell": false,
   "toc_position": {},
   "toc_section_display": true,
   "toc_window_display": true
  }
 },
 "nbformat": 4,
 "nbformat_minor": 5
}
