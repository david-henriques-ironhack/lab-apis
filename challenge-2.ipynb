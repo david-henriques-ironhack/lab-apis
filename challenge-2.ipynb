{
 "cells": [
  {
   "cell_type": "markdown",
   "id": "0809e785",
   "metadata": {},
   "source": [
    "# 1. Import the necessary libraries for you to be able to query 4square API"
   ]
  },
  {
   "cell_type": "code",
   "execution_count": 66,
   "id": "9b373771",
   "metadata": {},
   "outputs": [],
   "source": [
    "import requests\n",
    "import json\n",
    "import pandas as pd\n",
    "from getpass import getpass"
   ]
  },
  {
   "cell_type": "markdown",
   "id": "e94dce92",
   "metadata": {},
   "source": [
    "# 2. Get names and location of the 10 coffee places by passing Ironhack as your location"
   ]
  },
  {
   "cell_type": "code",
   "execution_count": 80,
   "id": "93f01ff6-9e67-42cd-8ea7-35c3a31278a7",
   "metadata": {},
   "outputs": [
    {
     "name": "stdin",
     "output_type": "stream",
     "text": [
      "Enter your secret token:  ········\n"
     ]
    }
   ],
   "source": [
    "API_Key = getpass.getpass(\"Enter your secret token: \")"
   ]
  },
  {
   "cell_type": "code",
   "execution_count": 92,
   "id": "8ed41ea0-1997-44b2-aa89-de34202dbbc6",
   "metadata": {},
   "outputs": [
    {
     "name": "stdout",
     "output_type": "stream",
     "text": [
      "Status code: 200\n",
      "Request URL: https://api.foursquare.com/v3/places/search?query=coffee&ll=52.6586%2C13.3496&limit=10\n",
      "Response Text: {\"results\":[{\"fsq_id\":\"4de78ec4d4c0086a950caab2\",\"categories\":[{\"id\":13027,\"name\":\"Bistro\",\"short_name\":\"Bistro\",\"plural_name\":\"Bistros\",\"icon\":{\"prefix\":\"https://ss3.4sqi.net/img/categories_v2/food/default_\",\"suffix\":\".png\"}},{\"id\":13034,\"name\":\"Café\",\"short_name\":\"Café\",\"plural_name\":\"Cafés\",\"icon\":{\"prefix\":\"https://ss3.4sqi.net/img/categories_v2/food/cafe_\",\"suffix\":\".png\"}},{\"id\":13035,\"name\":\"Coffee Shop\",\"short_name\":\"Coffee Shop\",\"plural_name\":\"Coffee Shops\",\"icon\":{\"prefix\":\"https://ss3.4sqi.net/img/categories_v2/food/coffeeshop_\",\"suffix\":\".png\"}}],\"chains\":[],\"closed_bucket\":\"VeryLikelyOpen\",\"distance\":4595,\"geocodes\":{\"drop_off\":{\"latitude\":52.665873,\"longitude\":13.282594},\"main\":{\"latitude\":52.666083,\"longitude\":13.282536},\"roof\":{\"latitude\":52.666083,\"longitude\":13.282536}},\"link\":\"/v3/places/4de78ec4d4c0086a950caab2\",\"location\":{\"address\":\"Scharfschwerdtstr. 1\",\"country\":\"DE\",\"cross_street\":\"\",\"formatted_address\":\"Scharfschwerdtstr. 1, 16540 Hohen Neuendorf\",\"locality\":\"Hohen Neuendorf\",\"postcode\":\"16540\",\"region\":\"Brandenburg\"},\"name\":\"Kaffeehaus Morgenrot\",\"related_places\":{},\"timezone\":\"Europe/Berlin\"},{\"fsq_id\":\"4d60ee4bd7206ea85bc5faf1\",\"categories\":[{\"id\":13034,\"name\":\"Café\",\"short_name\":\"Café\",\"plural_name\":\"Cafés\",\"icon\":{\"prefix\":\"https://ss3.4sqi.net/img/categories_v2/food/cafe_\",\"suffix\":\".png\"}}],\"chains\":[],\"closed_bucket\":\"VeryLikelyOpen\",\"distance\":5407,\"geocodes\":{\"drop_off\":{\"latitude\":52.688139,\"longitude\":13.286134},\"main\":{\"latitude\":52.688385,\"longitude\":13.286188},\"roof\":{\"latitude\":52.688385,\"longitude\":13.286188}},\"link\":\"/v3/places/4d60ee4bd7206ea85bc5faf1\",\"location\":{\"address\":\"Clara-Zetkin-Str. 19a\",\"country\":\"DE\",\"formatted_address\":\"Clara-Zetkin-Str. 19a, 16547 Birkenwerder\",\"locality\":\"Birkenwerder\",\"postcode\":\"16547\",\"region\":\"Brandenburg\"},\"name\":\"Kaffeehaus Birkenwerder\",\"related_places\":{},\"timezone\":\"Europe/Berlin\"},{\"fsq_id\":\"4de78ea9c65b4e07db027784\",\"categories\":[{\"id\":13034,\"name\":\"Café\",\"short_name\":\"Café\",\"plural_name\":\"Cafés\",\"icon\":{\"prefix\":\"https://ss3.4sqi.net/img/categories_v2/food/cafe_\",\"suffix\":\".png\"}}],\"chains\":[],\"closed_bucket\":\"LikelyOpen\",\"distance\":4328,\"geocodes\":{\"drop_off\":{\"latitude\":52.665626,\"longitude\":13.286167},\"main\":{\"latitude\":52.665162,\"longitude\":13.286295},\"roof\":{\"latitude\":52.665162,\"longitude\":13.286295}},\"link\":\"/v3/places/4de78ea9c65b4e07db027784\",\"location\":{\"address\":\"Scharfschwerdtstr. 1\",\"country\":\"DE\",\"cross_street\":\"\",\"formatted_address\":\"Scharfschwerdtstr. 1, 16540 Hohen Neuendorf\",\"locality\":\"Hohen Neuendorf\",\"postcode\":\"16540\",\"region\":\"Brandenburg\"},\"name\":\"Morgenrot\",\"related_places\":{},\"timezone\":\"Europe/Berlin\"},{\"fsq_id\":\"50d4563ae4b0ca04f6e12d86\",\"categories\":[{\"id\":13034,\"name\":\"Café\",\"short_name\":\"Café\",\"plural_name\":\"Cafés\",\"icon\":{\"prefix\":\"https://ss3.4sqi.net/img/categories_v2/food/cafe_\",\"suffix\":\".png\"}},{\"id\":13035,\"name\":\"Coffee Shop\",\"short_name\":\"Coffee Shop\",\"plural_name\":\"Coffee Shops\",\"icon\":{\"prefix\":\"https://ss3.4sqi.net/img/categories_v2/food/coffeeshop_\",\"suffix\":\".png\"}},{\"id\":13065,\"name\":\"Restaurant\",\"short_name\":\"Restaurant\",\"plural_name\":\"Restaurants\",\"icon\":{\"prefix\":\"https://ss3.4sqi.net/img/categories_v2/food/default_\",\"suffix\":\".png\"}}],\"chains\":[],\"closed_bucket\":\"VeryLikelyOpen\",\"distance\":12815,\"geocodes\":{\"drop_off\":{\"latitude\":52.543677,\"longitude\":13.367884},\"main\":{\"latitude\":52.543846,\"longitude\":13.367767},\"roof\":{\"latitude\":52.543846,\"longitude\":13.367767}},\"link\":\"/v3/places/50d4563ae4b0ca04f6e12d86\",\"location\":{\"address\":\"Lindower Str. 18\",\"country\":\"DE\",\"cross_street\":\"\",\"formatted_address\":\"Lindower Str. 18, 13347 Berlin\",\"locality\":\"Berlin\",\"postcode\":\"13347\",\"region\":\"Berlin\"},\"name\":\"Coffee Circle\",\"related_places\":{},\"timezone\":\"Europe/Berlin\"},{\"fsq_id\":\"5c83b977db2aeb002cdd2841\",\"categories\":[{\"id\":13035,\"name\":\"Coffee Shop\",\"short_name\":\"Coffee Shop\",\"plural_name\":\"Coffee Shops\",\"icon\":{\"prefix\":\"https://ss3.4sqi.net/img/categories_v2/food/coffeeshop_\",\"suffix\":\".png\"}},{\"id\":13065,\"name\":\"Restaurant\",\"short_name\":\"Restaurant\",\"plural_name\":\"Restaurants\",\"icon\":{\"prefix\":\"https://ss3.4sqi.net/img/categories_v2/food/default_\",\"suffix\":\".png\"}}],\"chains\":[],\"closed_bucket\":\"VeryLikelyOpen\",\"distance\":13613,\"geocodes\":{\"drop_off\":{\"latitude\":52.544001,\"longitude\":13.422112},\"main\":{\"latitude\":52.544229,\"longitude\":13.421858},\"roof\":{\"latitude\":52.544229,\"longitude\":13.421858}},\"link\":\"/v3/places/5c83b977db2aeb002cdd2841\",\"location\":{\"address\":\"Dunckerstr. 73\",\"country\":\"DE\",\"cross_street\":\"\",\"formatted_address\":\"Dunckerstr. 73, 10437 Berlin\",\"locality\":\"Berlin\",\"postcode\":\"10437\",\"region\":\"Berlin\"},\"name\":\"Kajumi\",\"related_places\":{},\"timezone\":\"Europe/Berlin\"},{\"fsq_id\":\"4b178156f964a52004c623e3\",\"categories\":[{\"id\":13002,\"name\":\"Bakery\",\"short_name\":\"Bakery\",\"plural_name\":\"Bakeries\",\"icon\":{\"prefix\":\"https://ss3.4sqi.net/img/categories_v2/food/bakery_\",\"suffix\":\".png\"}},{\"id\":13034,\"name\":\"Café\",\"short_name\":\"Café\",\"plural_name\":\"Cafés\",\"icon\":{\"prefix\":\"https://ss3.4sqi.net/img/categories_v2/food/cafe_\",\"suffix\":\".png\"}}],\"chains\":[],\"closed_bucket\":\"VeryLikelyOpen\",\"distance\":13618,\"geocodes\":{\"drop_off\":{\"latitude\":52.544548,\"longitude\":13.422603},\"main\":{\"latitude\":52.544291,\"longitude\":13.42289},\"roof\":{\"latitude\":52.544291,\"longitude\":13.42289}},\"link\":\"/v3/places/4b178156f964a52004c623e3\",\"location\":{\"address\":\"Dunckerstaße 23\",\"country\":\"DE\",\"cross_street\":\"Stargarder Str.\",\"formatted_address\":\"Dunckerstaße 23 (Stargarder Str.), 10437 Berlin\",\"locality\":\"Berlin\",\"postcode\":\"10437\",\"region\":\"Berlin\"},\"name\":\"Bekarei\",\"related_places\":{},\"timezone\":\"Europe/Berlin\"},{\"fsq_id\":\"4adcda79f964a5208c4621e3\",\"categories\":[{\"id\":13003,\"name\":\"Bar\",\"short_name\":\"Bar\",\"plural_name\":\"Bars\",\"icon\":{\"prefix\":\"https://ss3.4sqi.net/img/categories_v2/nightlife/pub_\",\"suffix\":\".png\"}},{\"id\":13027,\"name\":\"Bistro\",\"short_name\":\"Bistro\",\"plural_name\":\"Bistros\",\"icon\":{\"prefix\":\"https://ss3.4sqi.net/img/categories_v2/food/default_\",\"suffix\":\".png\"}},{\"id\":13377,\"name\":\"Vegan and Vegetarian Restaurant\",\"short_name\":\"Vegan and Vegetarian Restaurant\",\"plural_name\":\"Vegan and Vegetarian Restaurants\",\"icon\":{\"prefix\":\"https://ss3.4sqi.net/img/categories_v2/food/vegetarian_\",\"suffix\":\".png\"}}],\"chains\":[],\"closed_bucket\":\"VeryLikelyOpen\",\"distance\":13636,\"geocodes\":{\"drop_off\":{\"latitude\":52.543319,\"longitude\":13.419185},\"main\":{\"latitude\":52.543518,\"longitude\":13.419268},\"roof\":{\"latitude\":52.543518,\"longitude\":13.419268}},\"link\":\"/v3/places/4adcda79f964a5208c4621e3\",\"location\":{\"address\":\"Lettestr. 6\",\"country\":\"DE\",\"cross_street\":\"Schliemannstr.\",\"formatted_address\":\"Lettestr. 6 (Schliemannstr.), 10437 Berlin\",\"locality\":\"Berlin\",\"postcode\":\"10437\",\"region\":\"Berlin\"},\"name\":\"Wohnzimmer\",\"related_places\":{},\"timezone\":\"Europe/Berlin\"},{\"fsq_id\":\"59353278c5b11c6c16fec87d\",\"categories\":[{\"id\":13034,\"name\":\"Café\",\"short_name\":\"Café\",\"plural_name\":\"Cafés\",\"icon\":{\"prefix\":\"https://ss3.4sqi.net/img/categories_v2/food/cafe_\",\"suffix\":\".png\"}},{\"id\":13344,\"name\":\"Southern Food Restaurant\",\"short_name\":\"Southern / Soul\",\"plural_name\":\"Southern Food Restaurants\",\"icon\":{\"prefix\":\"https://ss3.4sqi.net/img/categories_v2/food/southern_\",\"suffix\":\".png\"}},{\"id\":13377,\"name\":\"Vegan and Vegetarian Restaurant\",\"short_name\":\"Vegan and Vegetarian Restaurant\",\"plural_name\":\"Vegan and Vegetarian Restaurants\",\"icon\":{\"prefix\":\"https://ss3.4sqi.net/img/categories_v2/food/vegetarian_\",\"suffix\":\".png\"}}],\"chains\":[],\"closed_bucket\":\"VeryLikelyOpen\",\"distance\":13700,\"geocodes\":{\"drop_off\":{\"latitude\":52.541141,\"longitude\":13.411494},\"main\":{\"latitude\":52.541286,\"longitude\":13.411506},\"roof\":{\"latitude\":52.541286,\"longitude\":13.411506}},\"link\":\"/v3/places/59353278c5b11c6c16fec87d\",\"location\":{\"address\":\"Eberswalder Str. 26\",\"country\":\"DE\",\"cross_street\":\"\",\"formatted_address\":\"Eberswalder Str. 26, 10437 Berlin\",\"locality\":\"Berlin\",\"postcode\":\"10437\",\"region\":\"Berlin\"},\"name\":\"Haferkater\",\"related_places\":{},\"timezone\":\"Europe/Berlin\"},{\"fsq_id\":\"4faea556e4b0ec82893bbb05\",\"categories\":[{\"id\":13002,\"name\":\"Bakery\",\"short_name\":\"Bakery\",\"plural_name\":\"Bakeries\",\"icon\":{\"prefix\":\"https://ss3.4sqi.net/img/categories_v2/food/bakery_\",\"suffix\":\".png\"}},{\"id\":13034,\"name\":\"Café\",\"short_name\":\"Café\",\"plural_name\":\"Cafés\",\"icon\":{\"prefix\":\"https://ss3.4sqi.net/img/categories_v2/food/cafe_\",\"suffix\":\".png\"}},{\"id\":13334,\"name\":\"Sandwich Spot\",\"short_name\":\"Sandwich Spot\",\"plural_name\":\"Sandwich Spots\",\"icon\":{\"prefix\":\"https://ss3.4sqi.net/img/categories_v2/food/deli_\",\"suffix\":\".png\"}}],\"chains\":[],\"closed_bucket\":\"VeryLikelyOpen\",\"distance\":13817,\"geocodes\":{\"drop_off\":{\"latitude\":52.540392,\"longitude\":13.412343},\"main\":{\"latitude\":52.540395,\"longitude\":13.412559},\"roof\":{\"latitude\":52.540395,\"longitude\":13.412559}},\"link\":\"/v3/places/4faea556e4b0ec82893bbb05\",\"location\":{\"address\":\"Schönhauser Allee 43a\",\"country\":\"DE\",\"cross_street\":\"Danziger Str.\",\"formatted_address\":\"Schönhauser Allee 43a (Danziger Str.), 10435 Berlin\",\"locality\":\"Berlin\",\"postcode\":\"10435\",\"region\":\"Berlin\"},\"name\":\"Nothaft + Seidel\",\"related_places\":{},\"timezone\":\"Europe/Berlin\"},{\"fsq_id\":\"4af28ef8f964a520eae721e3\",\"categories\":[{\"id\":13034,\"name\":\"Café\",\"short_name\":\"Café\",\"plural_name\":\"Cafés\",\"icon\":{\"prefix\":\"https://ss3.4sqi.net/img/categories_v2/food/cafe_\",\"suffix\":\".png\"}},{\"id\":13035,\"name\":\"Coffee Shop\",\"short_name\":\"Coffee Shop\",\"plural_name\":\"Coffee Shops\",\"icon\":{\"prefix\":\"https://ss3.4sqi.net/img/categories_v2/food/coffeeshop_\",\"suffix\":\".png\"}},{\"id\":13065,\"name\":\"Restaurant\",\"short_name\":\"Restaurant\",\"plural_name\":\"Restaurants\",\"icon\":{\"prefix\":\"https://ss3.4sqi.net/img/categories_v2/food/default_\",\"suffix\":\".png\"}}],\"chains\":[],\"closed_bucket\":\"VeryLikelyOpen\",\"distance\":13710,\"geocodes\":{\"drop_off\":{\"latitude\":52.540091,\"longitude\":13.40566},\"main\":{\"latitude\":52.539921,\"longitude\":13.405597},\"roof\":{\"latitude\":52.539921,\"longitude\":13.405597}},\"link\":\"/v3/places/4af28ef8f964a520eae721e3\",\"location\":{\"address\":\"Oderberger Str. 35\",\"country\":\"DE\",\"formatted_address\":\"Oderberger Str. 35, 10435 Berlin\",\"locality\":\"Berlin\",\"postcode\":\"10435\",\"region\":\"Berlin\"},\"name\":\"Bonanza Coffee Heroes\",\"related_places\":{},\"timezone\":\"Europe/Berlin\"}],\"context\":{\"geo_bounds\":{\"circle\":{\"center\":{\"latitude\":52.6586,\"longitude\":13.3496},\"radius\":22000}}}}\n"
     ]
    }
   ],
   "source": [
    "#Base url for Foursquare API \n",
    "url = \"https://api.foursquare.com/v3/places/search\"\n",
    "headers = {\"accept\": \"application/json\",\n",
    "           \"Authorization\": API_Key}\n",
    "#Parameters for the search\n",
    "params = {\n",
    "    \"query\": \"coffee\",\n",
    "    \"ll\": \"52.6586,13.3496\", # cordinate of Ironhack in Berlin\n",
    "    \"limit\": 10\n",
    "}\n",
    "r = requests.get(url, headers = headers, params = params)\n",
    "print(f\"Status code: {r.status_code}\")\n",
    "print(f\"Request URL: {r.url}\")\n",
    "print(f\"Response Text: {r.text}\")"
   ]
  },
  {
   "cell_type": "markdown",
   "id": "941b5dbf",
   "metadata": {},
   "source": [
    "# 3. Now get the 5 CLOSEST coffe places. Make use of params: limit, near?"
   ]
  },
  {
   "cell_type": "code",
   "execution_count": 126,
   "id": "fda8ddff",
   "metadata": {},
   "outputs": [
    {
     "name": "stdout",
     "output_type": "stream",
     "text": [
      "Status code: 200\n",
      "Request URL: https://api.foursquare.com/v3/places/search?query=coffee&ll=52.6586%2C13.3496&limit=5\n",
      "Response Text: {\"results\":[{\"fsq_id\":\"4de78ec4d4c0086a950caab2\",\"categories\":[{\"id\":13027,\"name\":\"Bistro\",\"short_name\":\"Bistro\",\"plural_name\":\"Bistros\",\"icon\":{\"prefix\":\"https://ss3.4sqi.net/img/categories_v2/food/default_\",\"suffix\":\".png\"}},{\"id\":13034,\"name\":\"Café\",\"short_name\":\"Café\",\"plural_name\":\"Cafés\",\"icon\":{\"prefix\":\"https://ss3.4sqi.net/img/categories_v2/food/cafe_\",\"suffix\":\".png\"}},{\"id\":13035,\"name\":\"Coffee Shop\",\"short_name\":\"Coffee Shop\",\"plural_name\":\"Coffee Shops\",\"icon\":{\"prefix\":\"https://ss3.4sqi.net/img/categories_v2/food/coffeeshop_\",\"suffix\":\".png\"}}],\"chains\":[],\"closed_bucket\":\"VeryLikelyOpen\",\"distance\":4595,\"geocodes\":{\"drop_off\":{\"latitude\":52.665873,\"longitude\":13.282594},\"main\":{\"latitude\":52.666083,\"longitude\":13.282536},\"roof\":{\"latitude\":52.666083,\"longitude\":13.282536}},\"link\":\"/v3/places/4de78ec4d4c0086a950caab2\",\"location\":{\"address\":\"Scharfschwerdtstr. 1\",\"country\":\"DE\",\"cross_street\":\"\",\"formatted_address\":\"Scharfschwerdtstr. 1, 16540 Hohen Neuendorf\",\"locality\":\"Hohen Neuendorf\",\"postcode\":\"16540\",\"region\":\"Brandenburg\"},\"name\":\"Kaffeehaus Morgenrot\",\"related_places\":{},\"timezone\":\"Europe/Berlin\"},{\"fsq_id\":\"4d60ee4bd7206ea85bc5faf1\",\"categories\":[{\"id\":13034,\"name\":\"Café\",\"short_name\":\"Café\",\"plural_name\":\"Cafés\",\"icon\":{\"prefix\":\"https://ss3.4sqi.net/img/categories_v2/food/cafe_\",\"suffix\":\".png\"}}],\"chains\":[],\"closed_bucket\":\"VeryLikelyOpen\",\"distance\":5407,\"geocodes\":{\"drop_off\":{\"latitude\":52.688139,\"longitude\":13.286134},\"main\":{\"latitude\":52.688385,\"longitude\":13.286188},\"roof\":{\"latitude\":52.688385,\"longitude\":13.286188}},\"link\":\"/v3/places/4d60ee4bd7206ea85bc5faf1\",\"location\":{\"address\":\"Clara-Zetkin-Str. 19a\",\"country\":\"DE\",\"formatted_address\":\"Clara-Zetkin-Str. 19a, 16547 Birkenwerder\",\"locality\":\"Birkenwerder\",\"postcode\":\"16547\",\"region\":\"Brandenburg\"},\"name\":\"Kaffeehaus Birkenwerder\",\"related_places\":{},\"timezone\":\"Europe/Berlin\"},{\"fsq_id\":\"4de78ea9c65b4e07db027784\",\"categories\":[{\"id\":13034,\"name\":\"Café\",\"short_name\":\"Café\",\"plural_name\":\"Cafés\",\"icon\":{\"prefix\":\"https://ss3.4sqi.net/img/categories_v2/food/cafe_\",\"suffix\":\".png\"}}],\"chains\":[],\"closed_bucket\":\"LikelyOpen\",\"distance\":4328,\"geocodes\":{\"drop_off\":{\"latitude\":52.665626,\"longitude\":13.286167},\"main\":{\"latitude\":52.665162,\"longitude\":13.286295},\"roof\":{\"latitude\":52.665162,\"longitude\":13.286295}},\"link\":\"/v3/places/4de78ea9c65b4e07db027784\",\"location\":{\"address\":\"Scharfschwerdtstr. 1\",\"country\":\"DE\",\"cross_street\":\"\",\"formatted_address\":\"Scharfschwerdtstr. 1, 16540 Hohen Neuendorf\",\"locality\":\"Hohen Neuendorf\",\"postcode\":\"16540\",\"region\":\"Brandenburg\"},\"name\":\"Morgenrot\",\"related_places\":{},\"timezone\":\"Europe/Berlin\"},{\"fsq_id\":\"50d4563ae4b0ca04f6e12d86\",\"categories\":[{\"id\":13034,\"name\":\"Café\",\"short_name\":\"Café\",\"plural_name\":\"Cafés\",\"icon\":{\"prefix\":\"https://ss3.4sqi.net/img/categories_v2/food/cafe_\",\"suffix\":\".png\"}},{\"id\":13035,\"name\":\"Coffee Shop\",\"short_name\":\"Coffee Shop\",\"plural_name\":\"Coffee Shops\",\"icon\":{\"prefix\":\"https://ss3.4sqi.net/img/categories_v2/food/coffeeshop_\",\"suffix\":\".png\"}},{\"id\":13065,\"name\":\"Restaurant\",\"short_name\":\"Restaurant\",\"plural_name\":\"Restaurants\",\"icon\":{\"prefix\":\"https://ss3.4sqi.net/img/categories_v2/food/default_\",\"suffix\":\".png\"}}],\"chains\":[],\"closed_bucket\":\"VeryLikelyOpen\",\"distance\":12815,\"geocodes\":{\"drop_off\":{\"latitude\":52.543677,\"longitude\":13.367884},\"main\":{\"latitude\":52.543846,\"longitude\":13.367767},\"roof\":{\"latitude\":52.543846,\"longitude\":13.367767}},\"link\":\"/v3/places/50d4563ae4b0ca04f6e12d86\",\"location\":{\"address\":\"Lindower Str. 18\",\"country\":\"DE\",\"cross_street\":\"\",\"formatted_address\":\"Lindower Str. 18, 13347 Berlin\",\"locality\":\"Berlin\",\"postcode\":\"13347\",\"region\":\"Berlin\"},\"name\":\"Coffee Circle\",\"related_places\":{},\"timezone\":\"Europe/Berlin\"},{\"fsq_id\":\"5c83b977db2aeb002cdd2841\",\"categories\":[{\"id\":13035,\"name\":\"Coffee Shop\",\"short_name\":\"Coffee Shop\",\"plural_name\":\"Coffee Shops\",\"icon\":{\"prefix\":\"https://ss3.4sqi.net/img/categories_v2/food/coffeeshop_\",\"suffix\":\".png\"}},{\"id\":13065,\"name\":\"Restaurant\",\"short_name\":\"Restaurant\",\"plural_name\":\"Restaurants\",\"icon\":{\"prefix\":\"https://ss3.4sqi.net/img/categories_v2/food/default_\",\"suffix\":\".png\"}}],\"chains\":[],\"closed_bucket\":\"VeryLikelyOpen\",\"distance\":13613,\"geocodes\":{\"drop_off\":{\"latitude\":52.544001,\"longitude\":13.422112},\"main\":{\"latitude\":52.544229,\"longitude\":13.421858},\"roof\":{\"latitude\":52.544229,\"longitude\":13.421858}},\"link\":\"/v3/places/5c83b977db2aeb002cdd2841\",\"location\":{\"address\":\"Dunckerstr. 73\",\"country\":\"DE\",\"cross_street\":\"\",\"formatted_address\":\"Dunckerstr. 73, 10437 Berlin\",\"locality\":\"Berlin\",\"postcode\":\"10437\",\"region\":\"Berlin\"},\"name\":\"Kajumi\",\"related_places\":{},\"timezone\":\"Europe/Berlin\"}],\"context\":{\"geo_bounds\":{\"circle\":{\"center\":{\"latitude\":52.6586,\"longitude\":13.3496},\"radius\":22000}}}}\n"
     ]
    }
   ],
   "source": [
    "#Base url for Foursquare API \n",
    "url = \"https://api.foursquare.com/v3/places/search\"\n",
    "headers = {\"accept\": \"application/json\",\n",
    "           \"Authorization\": API_Key}\n",
    "#Parameters for the search\n",
    "params = {\n",
    "    \"query\": \"coffee\",\n",
    "    \"ll\": \"52.6586,13.3496\", # cordinate of Ironhack in Berlin\n",
    "    \"limit\": 5\n",
    "}\n",
    "r = requests.get(url, headers = headers, params = params)\n",
    "print(f\"Status code: {r.status_code}\")\n",
    "print(f\"Request URL: {r.url}\")\n",
    "print(f\"Response Text: {r.text}\")"
   ]
  },
  {
   "cell_type": "code",
   "execution_count": 148,
   "id": "7199afb1-a28f-4c8d-8bda-398120f60cd5",
   "metadata": {},
   "outputs": [
    {
     "data": {
      "text/html": [
       "<div>\n",
       "<style scoped>\n",
       "    .dataframe tbody tr th:only-of-type {\n",
       "        vertical-align: middle;\n",
       "    }\n",
       "\n",
       "    .dataframe tbody tr th {\n",
       "        vertical-align: top;\n",
       "    }\n",
       "\n",
       "    .dataframe thead th {\n",
       "        text-align: right;\n",
       "    }\n",
       "</style>\n",
       "<table border=\"1\" class=\"dataframe\">\n",
       "  <thead>\n",
       "    <tr style=\"text-align: right;\">\n",
       "      <th></th>\n",
       "      <th>Name</th>\n",
       "      <th>Address</th>\n",
       "      <th>Distance (m)</th>\n",
       "      <th>Latitude</th>\n",
       "      <th>Longitude</th>\n",
       "    </tr>\n",
       "  </thead>\n",
       "  <tbody>\n",
       "    <tr>\n",
       "      <th>0</th>\n",
       "      <td>Kaffeehaus Morgenrot</td>\n",
       "      <td>Scharfschwerdtstr. 1, 16540 Hohen Neuendorf</td>\n",
       "      <td>4595</td>\n",
       "      <td>52.666083</td>\n",
       "      <td>13.282536</td>\n",
       "    </tr>\n",
       "    <tr>\n",
       "      <th>1</th>\n",
       "      <td>Kaffeehaus Birkenwerder</td>\n",
       "      <td>Clara-Zetkin-Str. 19a, 16547 Birkenwerder</td>\n",
       "      <td>5407</td>\n",
       "      <td>52.688385</td>\n",
       "      <td>13.286188</td>\n",
       "    </tr>\n",
       "    <tr>\n",
       "      <th>2</th>\n",
       "      <td>Morgenrot</td>\n",
       "      <td>Scharfschwerdtstr. 1, 16540 Hohen Neuendorf</td>\n",
       "      <td>4328</td>\n",
       "      <td>52.665162</td>\n",
       "      <td>13.286295</td>\n",
       "    </tr>\n",
       "    <tr>\n",
       "      <th>3</th>\n",
       "      <td>Coffee Circle</td>\n",
       "      <td>Lindower Str. 18, 13347 Berlin</td>\n",
       "      <td>12815</td>\n",
       "      <td>52.543846</td>\n",
       "      <td>13.367767</td>\n",
       "    </tr>\n",
       "    <tr>\n",
       "      <th>4</th>\n",
       "      <td>Kajumi</td>\n",
       "      <td>Dunckerstr. 73, 10437 Berlin</td>\n",
       "      <td>13613</td>\n",
       "      <td>52.544229</td>\n",
       "      <td>13.421858</td>\n",
       "    </tr>\n",
       "  </tbody>\n",
       "</table>\n",
       "</div>"
      ],
      "text/plain": [
       "                      Name                                      Address  \\\n",
       "0     Kaffeehaus Morgenrot  Scharfschwerdtstr. 1, 16540 Hohen Neuendorf   \n",
       "1  Kaffeehaus Birkenwerder    Clara-Zetkin-Str. 19a, 16547 Birkenwerder   \n",
       "2                Morgenrot  Scharfschwerdtstr. 1, 16540 Hohen Neuendorf   \n",
       "3            Coffee Circle               Lindower Str. 18, 13347 Berlin   \n",
       "4                   Kajumi                 Dunckerstr. 73, 10437 Berlin   \n",
       "\n",
       "   Distance (m)   Latitude  Longitude  \n",
       "0          4595  52.666083  13.282536  \n",
       "1          5407  52.688385  13.286188  \n",
       "2          4328  52.665162  13.286295  \n",
       "3         12815  52.543846  13.367767  \n",
       "4         13613  52.544229  13.421858  "
      ]
     },
     "execution_count": 148,
     "metadata": {},
     "output_type": "execute_result"
    }
   ],
   "source": [
    "#parse the Json response\n",
    "data = r.json()\n",
    "results = data.get(\"results\", [])\n",
    "\n",
    "#create a list for places \n",
    "places = []\n",
    "for place in results:\n",
    "    name = place.get(\"name\", \"N/A\")\n",
    "    address = place.get(\"location\", {}).get(\"formatted_address\", \"N/A\")\n",
    "    distance = place.get(\"distance\", \"N/A\")  # Distance from the location\n",
    "    latitude = place.get(\"geocodes\", {}).get(\"main\", {}).get(\"latitude\", \"N/A\")\n",
    "    longitude = place.get(\"geocodes\", {}).get(\"main\", {}).get(\"longitude\", \"N/A\")\n",
    "    places.append({\"Name\": name, \"Address\": address, \"Distance (m)\": distance, \"Latitude\": latitude, \"Longitude\": longitude})\n",
    "closest_coffee = pd.DataFrame(places)\n",
    "closest_coffee.head()"
   ]
  },
  {
   "cell_type": "markdown",
   "id": "d19904e8",
   "metadata": {},
   "source": [
    "# 4. Define a function that returns name, lat, long for starbucks OR restaurants AND for any given location"
   ]
  },
  {
   "cell_type": "code",
   "execution_count": 241,
   "id": "1fad5153",
   "metadata": {},
   "outputs": [],
   "source": [
    "def foursquare_places (venue, coordinates):\n",
    "    url = \"https://api.foursquare.com/v3/places/search\"\n",
    "    headers = {\"accept\": \"application/json\",\n",
    "               \"Authorization\": API_Key}\n",
    "    #Parameters for the search\n",
    "    params = {\n",
    "    \"query\": venue,\n",
    "    \"ll\": coordinates,\n",
    "    \"limit\": 10,\n",
    "    \"radius\": 10000}\n",
    "    #initiate the request\n",
    "    response = requests.get(url, headers = headers, params = params)\n",
    "    if response.status_code == 200:\n",
    "        data = response.json()\n",
    "        results = data.get(\"results\", [])\n",
    "        #extract relevant fields\n",
    "        places = []\n",
    "        for place in results:\n",
    "            name = place.get(\"name\", \"N/A\")\n",
    "            latitude = place.get(\"geocodes\", {}).get(\"main\", {}).get(\"latitude\", \"N/A\")\n",
    "            longitude = place.get(\"geocodes\", {}).get(\"main\", {}).get(\"longitude\", \"N/A\")\n",
    "            places.append({\"Name\": name, \"Latitude\": latitude, \"Longitude\": longitude})\n",
    "\n",
    "        #return the results as ddataframe\n",
    "        return pd.DataFrame(shops)\n",
    "    else:\n",
    "        print(f\"Error: {response.status_code}, Message: {response.text}\")\n",
    "        return pd.DataFrame()"
   ]
  },
  {
   "cell_type": "code",
   "execution_count": 243,
   "id": "6f6a3f84-806a-47dd-87dd-44ec65ef6ecd",
   "metadata": {},
   "outputs": [
    {
     "data": {
      "text/html": [
       "<div>\n",
       "<style scoped>\n",
       "    .dataframe tbody tr th:only-of-type {\n",
       "        vertical-align: middle;\n",
       "    }\n",
       "\n",
       "    .dataframe tbody tr th {\n",
       "        vertical-align: top;\n",
       "    }\n",
       "\n",
       "    .dataframe thead th {\n",
       "        text-align: right;\n",
       "    }\n",
       "</style>\n",
       "<table border=\"1\" class=\"dataframe\">\n",
       "  <thead>\n",
       "    <tr style=\"text-align: right;\">\n",
       "      <th></th>\n",
       "      <th>Name</th>\n",
       "      <th>Latitude</th>\n",
       "      <th>Longitude</th>\n",
       "    </tr>\n",
       "  </thead>\n",
       "  <tbody>\n",
       "    <tr>\n",
       "      <th>0</th>\n",
       "      <td>The Coffee Gang</td>\n",
       "      <td>50.930276</td>\n",
       "      <td>6.940809</td>\n",
       "    </tr>\n",
       "    <tr>\n",
       "      <th>1</th>\n",
       "      <td>Gustafson's Coffee Bar</td>\n",
       "      <td>50.930794</td>\n",
       "      <td>6.939413</td>\n",
       "    </tr>\n",
       "    <tr>\n",
       "      <th>2</th>\n",
       "      <td>Cafecafe - Urban Eats &amp; Coffee</td>\n",
       "      <td>50.936329</td>\n",
       "      <td>6.933461</td>\n",
       "    </tr>\n",
       "    <tr>\n",
       "      <th>3</th>\n",
       "      <td>Blooming Coffeebar and Roastery</td>\n",
       "      <td>50.934228</td>\n",
       "      <td>6.952436</td>\n",
       "    </tr>\n",
       "    <tr>\n",
       "      <th>4</th>\n",
       "      <td>Coffee Lounge</td>\n",
       "      <td>50.937741</td>\n",
       "      <td>6.945384</td>\n",
       "    </tr>\n",
       "    <tr>\n",
       "      <th>5</th>\n",
       "      <td>The Coffee Gang</td>\n",
       "      <td>50.953182</td>\n",
       "      <td>6.957026</td>\n",
       "    </tr>\n",
       "    <tr>\n",
       "      <th>6</th>\n",
       "      <td>Jaely's Coffee</td>\n",
       "      <td>50.947523</td>\n",
       "      <td>6.922620</td>\n",
       "    </tr>\n",
       "    <tr>\n",
       "      <th>7</th>\n",
       "      <td>Jules Coffee</td>\n",
       "      <td>50.916965</td>\n",
       "      <td>6.924155</td>\n",
       "    </tr>\n",
       "    <tr>\n",
       "      <th>8</th>\n",
       "      <td>Pico Coffee</td>\n",
       "      <td>50.954344</td>\n",
       "      <td>6.957774</td>\n",
       "    </tr>\n",
       "    <tr>\n",
       "      <th>9</th>\n",
       "      <td>CoffeeBrothers</td>\n",
       "      <td>50.928754</td>\n",
       "      <td>6.943356</td>\n",
       "    </tr>\n",
       "  </tbody>\n",
       "</table>\n",
       "</div>"
      ],
      "text/plain": [
       "                              Name   Latitude  Longitude\n",
       "0                  The Coffee Gang  50.930276   6.940809\n",
       "1           Gustafson's Coffee Bar  50.930794   6.939413\n",
       "2   Cafecafe - Urban Eats & Coffee  50.936329   6.933461\n",
       "3  Blooming Coffeebar and Roastery  50.934228   6.952436\n",
       "4                    Coffee Lounge  50.937741   6.945384\n",
       "5                  The Coffee Gang  50.953182   6.957026\n",
       "6                   Jaely's Coffee  50.947523   6.922620\n",
       "7                     Jules Coffee  50.916965   6.924155\n",
       "8                      Pico Coffee  50.954344   6.957774\n",
       "9                   CoffeeBrothers  50.928754   6.943356"
      ]
     },
     "execution_count": 243,
     "metadata": {},
     "output_type": "execute_result"
    }
   ],
   "source": [
    "shops = foursquare_places(\"coffee_shops\", \"50.9290,6.9421\")\n",
    "shops"
   ]
  },
  {
   "cell_type": "markdown",
   "id": "55fa0236-55eb-4dab-b162-9c8dc6d20668",
   "metadata": {},
   "source": [
    "Export results into data folder as a json: data/coffe_shops.json"
   ]
  },
  {
   "cell_type": "code",
   "execution_count": 247,
   "id": "7ac5f2a8",
   "metadata": {},
   "outputs": [
    {
     "name": "stdout",
     "output_type": "stream",
     "text": [
      "Data saved to data/coffee_shops.json\n"
     ]
    }
   ],
   "source": [
    "import os\n",
    "import json\n",
    "import pandas as pd\n",
    "\n",
    "# Output file path\n",
    "output_file = \"data/coffee_shops.json\"\n",
    "# Ensure the directory exists\n",
    "os.makedirs(os.path.dirname(output_file), exist_ok=True)\n",
    "# Convert the DataFrame to a list of dictionaries\n",
    "shops_list = shops.to_dict(orient=\"records\")\n",
    "# Write the data to the JSON file\n",
    "with open(output_file, \"w\") as json_file:\n",
    "    json.dump(shops_list, json_file, indent=4)\n",
    "print(f\"Data saved to {output_file}\")"
   ]
  },
  {
   "cell_type": "markdown",
   "id": "2d77e99d",
   "metadata": {},
   "source": [
    "# BONUS: load it into MongoDB in a collection named \"ironcoffee\" using pymongo"
   ]
  },
  {
   "cell_type": "code",
   "execution_count": null,
   "id": "85b94955",
   "metadata": {},
   "outputs": [],
   "source": [
    "# your code here"
   ]
  }
 ],
 "metadata": {
  "kernelspec": {
   "display_name": "Python 3 (ipykernel)",
   "language": "python",
   "name": "python3"
  },
  "language_info": {
   "codemirror_mode": {
    "name": "ipython",
    "version": 3
   },
   "file_extension": ".py",
   "mimetype": "text/x-python",
   "name": "python",
   "nbconvert_exporter": "python",
   "pygments_lexer": "ipython3",
   "version": "3.11.5"
  },
  "toc": {
   "base_numbering": 1,
   "nav_menu": {},
   "number_sections": true,
   "sideBar": true,
   "skip_h1_title": false,
   "title_cell": "Table of Contents",
   "title_sidebar": "Contents",
   "toc_cell": false,
   "toc_position": {},
   "toc_section_display": true,
   "toc_window_display": true
  }
 },
 "nbformat": 4,
 "nbformat_minor": 5
}
