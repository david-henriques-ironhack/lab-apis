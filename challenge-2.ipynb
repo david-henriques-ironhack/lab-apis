{
 "cells": [
  {
   "cell_type": "markdown",
   "id": "0809e785",
   "metadata": {},
   "source": [
    "# 1. Import the necessary libraries for you to be able to query 4square API"
   ]
  },
  {
   "cell_type": "code",
   "execution_count": 6,
   "id": "9b373771",
   "metadata": {},
   "outputs": [],
   "source": [
    "import requests\n",
    "import json\n",
    "import pandas as pd\n",
    "import getpass\n",
    "import requests\n",
    "import os"
   ]
  },
  {
   "cell_type": "markdown",
   "id": "e94dce92",
   "metadata": {},
   "source": [
    "# 2. Get names and location of the 10 coffee places by passing Ironhack as your location"
   ]
  },
  {
   "cell_type": "code",
   "execution_count": 2,
   "id": "1d72f571",
   "metadata": {},
   "outputs": [
    {
     "name": "stdout",
     "output_type": "stream",
     "text": [
      "1. Cantina Matadero - P. de la Chopera, 14, 28045 Madrid Comunidad de Madrid\n",
      "2. La Francachela - Paseo de la Chopera, 14, 28045 Madrid Comunidad de Madrid\n",
      "3. Dot Café Bar - Calle de Eugenio Sellés, 6, 28045 Madrid Comunidad de Madrid\n",
      "4. Cafetería Churrería Legazpi - Plaza Legazpi, 3, 28045 Madrid Comunidad de Madrid\n",
      "5. Rodilla - Calle de Antonio López, 109, 28026 Madrid Comunidad de Madrid\n",
      "6. El Gallo de Oro - Antonio López, 113, 28026 Madrid Comunidad de Madrid\n",
      "7. Salon de Te al Yabal - Cáceres, 52 (P. Santa María de la Cabeza), 28045 Madrid Comunidad de Madrid\n",
      "8. BBIG Delice Café - Calle Juan de Vera, 11, 28045 Madrid Comunidad de Madrid\n",
      "9. Heladeria Venezzia - Paseo de las Delicias, 102 (C. Divino Vallés), 28045 Madrid Comunidad de Madrid\n",
      "10. Viena Capellanes - P.º Molino, 6 (C. Frigiliana), 28045 Madrid Comunidad de Madrid\n"
     ]
    }
   ],
   "source": [
    "# Get Foursquare API key \n",
    "foursquare_token = getpass.getpass(\"Enter your Foursquare API token: \")\n",
    "\n",
    "# Ironhack Madrid Location \n",
    "ironhack_location = {'lat': 40.3925, 'lng': -3.6983} \n",
    "\n",
    "# Foursquare API URL\n",
    "url = 'https://api.foursquare.com/v3/places/search'\n",
    "\n",
    "# Parameters for the API request\n",
    "params = {\n",
    "    'query': 'coffee',\n",
    "    'll': f\"{ironhack_location['lat']},{ironhack_location['lng']}\",\n",
    "    'limit': 10,  \n",
    "    'radius': 1000  \n",
    "}\n",
    "\n",
    "# Headers \n",
    "headers = {\n",
    "    'Authorization': foursquare_token\n",
    "}\n",
    "\n",
    "# Send the request to the Foursquare API\n",
    "response = requests.get(url, params=params, headers=headers)\n",
    "\n",
    "# Check the status of the request\n",
    "if response.status_code == 200:\n",
    "    # Parse the JSON response\n",
    "    coffee_places = response.json()\n",
    "    \n",
    "    # Display the names and addresses of the top 10 coffee places\n",
    "    for idx, place in enumerate(coffee_places['results']):\n",
    "        name = place['name']\n",
    "        address = place['location']['formatted_address']\n",
    "        print(f\"{idx + 1}. {name} - {address}\")\n",
    "else:\n",
    "    print(f\"Error: {response.status_code} - {response.text}\")"
   ]
  },
  {
   "cell_type": "markdown",
   "id": "941b5dbf",
   "metadata": {},
   "source": [
    "# 3. Now get the 5 CLOSEST coffe places. Make use of params: limit, near?"
   ]
  },
  {
   "cell_type": "code",
   "execution_count": 3,
   "id": "fda8ddff",
   "metadata": {},
   "outputs": [
    {
     "name": "stdout",
     "output_type": "stream",
     "text": [
      "1. Bucólico Café - Calle Barbieri, 4, 28004 Madrid Comunidad de Madrid\n",
      "2. La Rollerie - Carrera San Jerónimo, 26, 28014 Madrid Comunidad de Madrid\n",
      "3. Chocolatería San Ginés - Pasadizo de San Ginés, 5 (C. Arenal), 28013 Madrid Comunidad de Madrid\n",
      "4. El Jardín de Salvador Bachiller - Calle Montera, 37, 28013 Madrid Comunidad de Madrid\n",
      "5. Pum Pum Bakery - Calle de la Esgrima, 1, 28012 Madrid Comunidad de Madrid\n"
     ]
    }
   ],
   "source": [
    "# Get Foursquare API key securely\n",
    "foursquare_token = getpass.getpass(\"Enter your Foursquare API token: \")\n",
    "\n",
    "# Foursquare API URL\n",
    "url = 'https://api.foursquare.com/v3/places/search'\n",
    "\n",
    "# Parameters for the API request\n",
    "params = {\n",
    "    'query': 'coffee',\n",
    "    'near': 'Ironhack Madrid',  \n",
    "    'limit': 5,  \n",
    "}\n",
    "\n",
    "# Headers \n",
    "headers = {\n",
    "    'Authorization': foursquare_token\n",
    "}\n",
    "\n",
    "# Send the request to the Foursquare API\n",
    "response = requests.get(url, params=params, headers=headers)\n",
    "\n",
    "# Check the status of the request\n",
    "if response.status_code == 200:\n",
    "    # Parse the JSON response\n",
    "    coffee_places = response.json()\n",
    "    \n",
    "    # Display the names and addresses of the top 5 closest coffee places\n",
    "    for idx, place in enumerate(coffee_places['results']):\n",
    "        name = place['name']\n",
    "        address = place['location']['formatted_address']\n",
    "        print(f\"{idx + 1}. {name} - {address}\")\n",
    "else:\n",
    "    print(f\"Error: {response.status_code} - {response.text}\")"
   ]
  },
  {
   "cell_type": "markdown",
   "id": "d19904e8",
   "metadata": {},
   "source": [
    "# 4. Define a function that returns name, lat, long for starbucks OR restaurants AND for any given location"
   ]
  },
  {
   "cell_type": "code",
   "execution_count": 4,
   "id": "1fad5153",
   "metadata": {},
   "outputs": [
    {
     "name": "stdout",
     "output_type": "stream",
     "text": [
      "Name: Starbucks, Latitude: 40.391357, Longitude: -3.701159\n",
      "Name: Starbucks, Latitude: 40.408901, Longitude: -3.693309\n",
      "Name: Starbucks, Latitude: 40.415289, Longitude: -3.695056\n",
      "Name: Starbucks, Latitude: 40.420652, Longitude: -3.698997\n",
      "Name: Starbucks, Latitude: 40.417206, Longitude: -3.706114\n"
     ]
    }
   ],
   "source": [
    "def foursquare_places(venue, coordinates, limit=10):\n",
    "    \"\"\"\n",
    "    Finds places of a specified type near a given set of coordinates.\n",
    "    \n",
    "    Parameters:\n",
    "    - venue (str): The type of place to search for (e.g., \"Starbucks\" or \"restaurant\").\n",
    "    - coordinates (dict): A dictionary containing 'latitude' and 'longitude'.\n",
    "    - limit (int): Number of results to return (default is 10).\n",
    "    \n",
    "    Returns:\n",
    "    - List of dictionaries with name, latitude, and longitude of each place.\n",
    "    \"\"\"\n",
    "    # Foursquare API URL\n",
    "    url = 'https://api.foursquare.com/v3/places/search'\n",
    "    \n",
    "    # Parameters for the API request\n",
    "    params = {\n",
    "        'query': venue,\n",
    "        'll': f\"{coordinates['latitude']},{coordinates['longitude']}\",  # Coordinates for location\n",
    "        'limit': limit  # Specify the maximum number of results\n",
    "    }\n",
    "    \n",
    "    # Headers\n",
    "    headers = {\n",
    "        'Authorization': foursquare_token\n",
    "    }\n",
    "    \n",
    "    # Send the request to the Foursquare API\n",
    "    response = requests.get(url, params=params, headers=headers)\n",
    "    \n",
    "    # Check the status of the request\n",
    "    if response.status_code == 200:\n",
    "        # Parse the JSON response\n",
    "        places = response.json().get(\"results\", [])\n",
    "        \n",
    "        # Extract name, latitude, and longitude\n",
    "        results = []\n",
    "        for place in places:\n",
    "            name = place.get('name', 'N/A')\n",
    "            lat = place['geocodes']['main']['latitude']\n",
    "            lon = place['geocodes']['main']['longitude']\n",
    "            results.append({\n",
    "                \"Name\": name,\n",
    "                \"Latitude\": lat,\n",
    "                \"Longitude\": lon\n",
    "            })\n",
    "        return results\n",
    "    else:\n",
    "        print(f\"Error: {response.status_code} - {response.text}\")\n",
    "        return []\n",
    "\n",
    "# Example usage:\n",
    "coordinates = {'latitude': 40.3925, 'longitude': -3.6983}  \n",
    "venue = \"Starbucks\"  \n",
    "results = foursquare_places(venue, coordinates, limit=5)\n",
    "\n",
    "# Display results\n",
    "for place in results:\n",
    "    print(f\"Name: {place['Name']}, Latitude: {place['Latitude']}, Longitude: {place['Longitude']}\")"
   ]
  },
  {
   "cell_type": "markdown",
   "id": "1836c1a1",
   "metadata": {},
   "source": [
    "# 5. Export it into data folder as a json: `data/coffe_shops.json`"
   ]
  },
  {
   "cell_type": "code",
   "execution_count": 7,
   "id": "7ac5f2a8",
   "metadata": {},
   "outputs": [
    {
     "name": "stdout",
     "output_type": "stream",
     "text": [
      "Data saved to data/coffee_shops.json\n"
     ]
    }
   ],
   "source": [
    "def save_to_json(data, filename=\"data/coffee_shops.json\"):\n",
    "    \"\"\"\n",
    "    Saves data to a JSON file in the specified filename.\n",
    "    \n",
    "    Parameters:\n",
    "    - data: Data to be saved (list of dictionaries).\n",
    "    - filename: Path to the JSON file (default is 'data/coffee_shops.json').\n",
    "    \"\"\"\n",
    "    # Ensure the data folder exists\n",
    "    os.makedirs(os.path.dirname(filename), exist_ok=True)\n",
    "    \n",
    "    # Write data to a JSON file\n",
    "    with open(filename, 'w') as f:\n",
    "        json.dump(data, f, indent=4)\n",
    "    print(f\"Data saved to {filename}\")\n",
    "\n",
    "# Example usage:\n",
    "coordinates = {'latitude': 40.3925, 'longitude': -3.6983}  \n",
    "venue = \"coffee\"  \n",
    "results = foursquare_places(venue, coordinates, limit=5)\n",
    "\n",
    "# Save the results to JSON\n",
    "if results:\n",
    "    save_to_json(results, \"data/coffee_shops.json\")\n",
    "else:\n",
    "    print(\"No results to save.\")"
   ]
  },
  {
   "cell_type": "markdown",
   "id": "2d77e99d",
   "metadata": {},
   "source": [
    "# BONUS: load it into MongoDB in a collection named \"ironcoffee\" using pymongo"
   ]
  },
  {
   "cell_type": "code",
   "execution_count": null,
   "id": "85b94955",
   "metadata": {},
   "outputs": [],
   "source": [
    "# your code here"
   ]
  }
 ],
 "metadata": {
  "kernelspec": {
   "display_name": "base",
   "language": "python",
   "name": "python3"
  },
  "language_info": {
   "codemirror_mode": {
    "name": "ipython",
    "version": 3
   },
   "file_extension": ".py",
   "mimetype": "text/x-python",
   "name": "python",
   "nbconvert_exporter": "python",
   "pygments_lexer": "ipython3",
   "version": "3.12.4"
  },
  "toc": {
   "base_numbering": 1,
   "nav_menu": {},
   "number_sections": true,
   "sideBar": true,
   "skip_h1_title": false,
   "title_cell": "Table of Contents",
   "title_sidebar": "Contents",
   "toc_cell": false,
   "toc_position": {},
   "toc_section_display": true,
   "toc_window_display": true
  }
 },
 "nbformat": 4,
 "nbformat_minor": 5
}
